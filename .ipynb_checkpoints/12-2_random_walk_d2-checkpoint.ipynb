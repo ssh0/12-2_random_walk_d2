{
 "metadata": {
  "kernelspec": {
   "codemirror_mode": {
    "name": "ipython",
    "version": 2
   },
   "display_name": "IPython (Python 2)",
   "language": "python",
   "name": "python2"
  },
  "name": "",
  "signature": "sha256:2e039f29e429ca61601cc8d8b9df1de8081328bdb0a43d70ec05dd0ed78b05ad"
 },
 "nbformat": 3,
 "nbformat_minor": 0,
 "worksheets": [
  {
   "cells": [
    {
     "cell_type": "heading",
     "level": 1,
     "metadata": {
      "internals": {
       "slide_helper": "subslide_end",
       "slide_type": "subslide"
      },
      "slide_helper": "slide_end",
      "slideshow": {
       "slide_type": "slide"
      }
     },
     "source": [
      "\u8a08\u7b97\u6a5f\u5b9f\u7fd2 \u554f\u984c12.2 2\u6b21\u5143\u306e\u30e9\u30f3\u30c0\u30e0\u30a6\u30a9\u30fc\u30af"
     ]
    },
    {
     "cell_type": "heading",
     "level": 2,
     "metadata": {
      "internals": {
       "slide_type": "subslide"
      },
      "slideshow": {
       "slide_type": "slide"
      }
     },
     "source": [
      "\u30b7\u30df\u30e5\u30ec\u30fc\u30b7\u30e7\u30f3\u306e\u76ee\u7684"
     ]
    },
    {
     "cell_type": "markdown",
     "metadata": {
      "internals": {
       "frag_number": 2,
       "slide_helper": "subslide_end"
      },
      "slide_helper": "slide_end",
      "slideshow": {
       "slide_type": "fragment"
      }
     },
     "source": [
      "2\u6b21\u5143\u683c\u5b50\u72b6\u3092\u4e92\u3044\u306b\u72ec\u7acb\u306b\u52d5\u304f\u591a\u6570\u306e\u7c92\u5b50\u3092\u8003\u3048\u308b\u3002\u521d\u671f\u72b6\u614b\u3068\u3057\u3066\u3001\u6b63\u65b9\u683c\u5b50\u306e\u539f\u70b9\u306b\u30e9\u30f3\u30c0\u30e0\u30a6\u30a9\u30fc\u30af\u3092\u3059\u308b\u7c92\u5b50\u306e\u96c6\u56e3\u3092\u7f6e\u3044\u3066\u3001\u3069\u306e\u7c92\u5b50\u3082\u3001\u5404\u5206\u5272\u6642\u9593\u3054\u3068\u306b\u7b49\u3057\u3044\u78ba\u7387\u3067\u53ef\u80fd\u306a4\u65b9\u5411\u306e\u3044\u305a\u308c\u304b\u306b\u30e9\u30f3\u30c0\u30e0\u306b\u79fb\u52d5\u3059\u308b\u3068\u3057\u3066\u3001\u7c92\u5b50\u306e\u8a2a\u308c\u305f\u4f4d\u7f6e\u3092\u8a18\u9332\u3059\u308b\u3002"
     ]
    },
    {
     "cell_type": "heading",
     "level": 2,
     "metadata": {
      "internals": {
       "frag_helper": "fragment_end",
       "frag_number": 2,
       "slide_helper": "subslide_end",
       "slide_type": "subslide"
      },
      "slide_helper": "slide_end",
      "slideshow": {
       "slide_type": "slide"
      }
     },
     "source": [
      "\u5b9f\u7fd2\u8ab2\u984c"
     ]
    },
    {
     "cell_type": "heading",
     "level": 3,
     "metadata": {
      "internals": {
       "frag_helper": "fragment_end",
       "frag_number": 2,
       "slide_type": "subslide"
      },
      "slideshow": {
       "slide_type": "slide"
      }
     },
     "source": [
      "\u554f\u984c a\uff1a"
     ]
    },
    {
     "cell_type": "markdown",
     "metadata": {
      "internals": {
       "frag_helper": "fragment_end",
       "frag_number": 5,
       "slide_helper": "subslide_end"
      },
      "slide_helper": "subslide_end",
      "slideshow": {
       "slide_type": "fragment"
      }
     },
     "source": [
      "\u7c92\u5b50\u6570\u3092$\\mathrm{nwalkers} \\geq 200$\u3001\u5404\u7c92\u5b50\u306e\u30b9\u30c6\u30c3\u30d7\u6570\u3092$N \\geq 500$\u306b\u3068\u308a\u3001\u30d7\u30ed\u30b0\u30e9\u30e0\u3092\u5b9f\u884c\u305b\u3088\u3002\u5404\u7c92\u5b50\u304c\u4e00\u5339\u306e\u8702\u3092\u8868\u3057\u3066\u3044\u308b\u3068\u8003\u3048\u305f\u3068\u304d\u306b\u3001\u8702\u306e\u7fa4\u308c\u306e\u5f62\u306e\u5b9a\u6027\u7684\u306a\u6027\u8cea\u306b\u3064\u3044\u3066\u8ff0\u3079\u3088\u3002\u7fa4\u308c\u306e\u5883\u754c\u306e\u5b9a\u6027\u7684\u306a\u6027\u8cea\u3092$N$\u306e\u95a2\u6570\u3068\u3057\u3066\u8aac\u660e\u305b\u3088\u3002\u5883\u754c\u306f\u30ae\u30b6\u30ae\u30b6\u3057\u3066\u3044\u308b\u304b\u3002\u305d\u308c\u3068\u3082\u6ed1\u3089\u304b\u304b\u3002"
     ]
    },
    {
     "cell_type": "markdown",
     "metadata": {
      "internals": {
       "frag_helper": "fragment_end",
       "frag_number": 5,
       "slide_type": "subslide"
      },
      "slideshow": {
       "slide_type": "subslide"
      }
     },
     "source": [
      "2\u6b21\u5143\u30e9\u30f3\u30c0\u30e0\u30a6\u30a9\u30fc\u30af\u306e\u30b7\u30df\u30e5\u30ec\u30fc\u30b7\u30e7\u30f3\u3092\u884c\u3044\u3001\u5b9f\u969b\u306b\u5f97\u3089\u308c\u308b\u8ecc\u8de1\u306e\u69d8\u5b50\u3092\u898b\u3066\u307f\u308b\u3053\u3068\u306b\u3059\u308b\u3002"
     ]
    },
    {
     "cell_type": "code",
     "collapsed": false,
     "input": [
      "%matplotlib inline\n",
      "from IPython.html import widgets\n",
      "from IPython.html.widgets import interactive\n",
      "from IPython.display import display\n",
      "from __future__ import print_function\n",
      "import numpy as np\n",
      "import matplotlib.pyplot as plt"
     ],
     "language": "python",
     "metadata": {
      "internals": {
       "frag_helper": "fragment_end",
       "frag_number": 7
      },
      "slideshow": {
       "slide_type": "fragment"
      }
     },
     "outputs": [],
     "prompt_number": 1
    },
    {
     "cell_type": "code",
     "collapsed": false,
     "input": [
      "def random_walk_d2(nwalkers, N, l=1, x0=0, y0=0):\n",
      "    \"\"\" Random walk in two-dimentional space.\n",
      "    \"\"\"\n",
      "    global x, y\n",
      "    x = np.zeros([nwalkers, max(N)], 'i')\n",
      "    y = np.zeros([nwalkers, max(N)], 'i')\n",
      "    p = np.random.random([nwalkers, max(N) - 1])\n",
      "\n",
      "    for n in range(nwalkers):\n",
      "        x[n][0] = x0\n",
      "        y[n][0] = y0\n",
      "        for i in range(1, max(N)):\n",
      "            if p[n][i - 1] < 0.25:\n",
      "                x[n][i] = x[n][i - 1] + l\n",
      "                y[n][i] = y[n][i - 1]\n",
      "            elif p[n][i - 1] < 0.5:\n",
      "                x[n][i] = x[n][i - 1] - l\n",
      "                y[n][i] = y[n][i - 1]\n",
      "            elif p[n][i - 1] < 0.75:\n",
      "                x[n][i] = x[n][i - 1]\n",
      "                y[n][i] = y[n][i - 1] + l\n",
      "            else:\n",
      "                x[n][i] = x[n][i - 1]\n",
      "                y[n][i] = y[n][i - 1] - l"
     ],
     "language": "python",
     "metadata": {
      "internals": {
       "frag_helper": "fragment_end",
       "frag_number": 8,
       "slide_helper": "subslide_end"
      },
      "slide_helper": "subslide_end",
      "slideshow": {
       "slide_type": "fragment"
      }
     },
     "outputs": [],
     "prompt_number": 2
    },
    {
     "cell_type": "code",
     "collapsed": false,
     "input": [
      "def draw_figure(nwalkers):\n",
      "    \"\"\" Draw the figure of two-dimentional random walk.\n",
      "    \"\"\"\n",
      "    fig = plt.figure('random walk figure', figsize=(9, 8))\n",
      "    ax = fig.add_subplot(111, aspect='equal')\n",
      "    ax.grid()\n",
      "    xmin, xmax = np.amin(x), np.amax(x)\n",
      "    ymin, ymax = np.amin(y), np.amax(y)\n",
      "    xmargin, ymargin = (xmax - xmin) * 0.05, (ymax - ymin) * 0.05\n",
      "    ax.set_xlim(xmin - xmargin, xmax + xmargin)\n",
      "    ax.set_ylim(ymin - ymargin, ymax + ymargin)\n",
      "    ax.set_xlabel(r'$x$')\n",
      "    ax.set_ylabel(r'$y$')\n",
      "\n",
      "    for n in range(nwalkers):\n",
      "        l, = ax.plot([], [], 'r-')\n",
      "        l.set_data(x[n], y[n])\n",
      "    plt.show()"
     ],
     "language": "python",
     "metadata": {
      "internals": {
       "frag_helper": "fragment_end",
       "frag_number": 8,
       "slide_helper": "subslide_end",
       "slide_type": "subslide"
      },
      "slide_helper": "subslide_end",
      "slideshow": {
       "slide_type": "subslide"
      }
     },
     "outputs": [],
     "prompt_number": 3
    },
    {
     "cell_type": "code",
     "collapsed": false,
     "input": [
      "def set_param(steps=500, walkers=500):\n",
      "    print(\"steps = {0}, random walkers = {1}\".format(steps, walkers))\n",
      "w = interactive(set_param, steps=(50, 1000, 50), walkers=(100, 600, 100))\n",
      "display(w)\n",
      "\n",
      "def show_figure(event):\n",
      "    N = xrange(1, w.kwargs['steps'] + 1)  # caluculate when N = *\n",
      "    nwalkers = w.kwargs['walkers']  # number of random walkers\n",
      "    random_walk_d2(nwalkers, N)\n",
      "    draw_figure(nwalkers)\n",
      "\n",
      "button_a = widgets.Button(description=\"Show figure\")\n",
      "display(button_a)\n",
      "button_a.on_click(show_figure)"
     ],
     "language": "python",
     "metadata": {
      "internals": {
       "frag_helper": "fragment_end",
       "frag_number": 8,
       "slide_type": "subslide"
      },
      "slideshow": {
       "slide_type": "subslide"
      }
     },
     "outputs": [
      {
       "output_type": "stream",
       "stream": "stdout",
       "text": [
        "steps = 500, random walkers = 500\n"
       ]
      },
      {
       "metadata": {},
       "output_type": "display_data",
       "png": "[encoded data removed]",
       "text": [
        "<matplotlib.figure.Figure at 0x7f6d97971390>"
       ]
      }
     ],
     "prompt_number": 4
    },
    {
     "cell_type": "markdown",
     "metadata": {
      "internals": {
       "frag_helper": "fragment_end",
       "frag_number": 11,
       "slide_helper": "subslide_end"
      },
      "slide_helper": "slide_end",
      "slideshow": {
       "slide_type": "fragment"
      }
     },
     "source": [
      "$N$\u306e\u91cf\u3092\u5897\u5927\u3055\u305b\u305f\u3068\u304d\u3001\u30e9\u30f3\u30c0\u30e0\u30a6\u30a9\u30fc\u30af\u306b\u3088\u3063\u3066\u5f62\u4f5c\u3089\u308c\u308b\u5883\u754c\u306f\u30ae\u30b6\u30ae\u30b6\u3057\u3066\u3044\u308b\u3002\u3059\u306a\u308f\u3061\u3001\u56de\u8ee2\u534a\u5f84\u306e\u3088\u3046\u306a\u3082\u306e\u3092\u8003\u3048\u305f\u3068\u304d\u3001\u305d\u306e\u5186\u5468\u306e\u9577\u3055\u306b\u6bd4\u3079\u3066\u5883\u754c\u306e\u9577\u3055\u304c\u3088\u308a\u5927\u304d\u304f\u306a\u308b\u3053\u3068\u304c\u5206\u304b\u308b\u3002\u307e\u305f\u3001\u5404\u7c92\u5b50\u304c\u4e00\u5339\u306e\u8702\u3092\u8868\u3057\u3066\u3044\u308b\u3068\u8003\u3048\u305f\u3068\u304d\u306b\u3001\u8702\u306e\u7fa4\u308c\u306e\u5f62\u306f\u3001\u3042\u308b\u6642\u9593\u306e\u9593\u306e\u89b3\u5bdf\u306e\u7d50\u679c\u3092\u91cd\u306d\u3066\u66f8\u304f\u3068\u5186\u5f62\u306b\u8fd1\u304f\u306a\u3063\u3066\u304a\u308a\u3001\u89b3\u5bdf\u3059\u308b\u6642\u9593\u3092\u9577\u304f\u3059\u308b\u3068(\u3064\u307e\u308a\u30b9\u30c6\u30c3\u30d7\u6570\u3092\u5927\u304d\u304f\u3059\u308b\u3068)\u3001\u5883\u754c\u306f\u30ae\u30b6\u30ae\u30b6\u3057\u3066\u3044\u308b\u3088\u3046\u306b\u898b\u3048\u308b\u3002"
     ]
    },
    {
     "cell_type": "heading",
     "level": 3,
     "metadata": {
      "internals": {
       "frag_helper": "fragment_end",
       "frag_number": 11,
       "slide_type": "subslide"
      },
      "slideshow": {
       "slide_type": "slide"
      }
     },
     "source": [
      "\u554f\u984c b\uff1a"
     ]
    },
    {
     "cell_type": "markdown",
     "metadata": {
      "internals": {
       "frag_helper": "fragment_end",
       "frag_number": 13,
       "slide_helper": "subslide_end"
      },
      "slide_helper": "subslide_end",
      "slideshow": {
       "slide_type": "fragment"
      }
     },
     "source": [
      "\u91cf$\\langle x(N)\\rangle$,$\\langle y(N)\\rangle$,$\\langle \\Delta x^{2}(N)\\rangle$, $\\langle \\Delta y^{2}(N)\\rangle$\u3092$N$\u306e\u95a2\u6570\u3068\u3057\u3066\u6c42\u3081\u3088\u3002\u5e73\u5747\u306f\u3059\u3079\u3066\u306e\u7c92\u5b50\u306b\u3064\u3044\u3066\u884c\u3046\u3002\u307e\u305f\u3001$\\langle \\Delta R^{2}(N)\\rangle = \\langle x^{2}(N)\\rangle + \\langle y^{2}(N)\\rangle -\\langle x(N)\\rangle^{2} -\\langle y(N)\\rangle^{2}$\u3067\u4e0e\u3048\u3089\u308c\u308b\u5e73\u57472\u4e57\u5909\u4f4d$\\langle \\Delta R^{2}(N)\\rangle$\u3092\u6c42\u3081\u3088\u3002\u5404\u91cf\u306e$N$\u4f9d\u5b58\u6027\u306f\u3069\u3046\u306a\u308b\u304b\u3002"
     ]
    },
    {
     "cell_type": "markdown",
     "metadata": {
      "internals": {
       "frag_helper": "fragment_end",
       "frag_number": 13,
       "slide_type": "subslide"
      },
      "slideshow": {
       "slide_type": "subslide"
      }
     },
     "source": [
      "$\\langle x(N)\\rangle$,$\\langle y(N)\\rangle$,$\\langle \\Delta x^{2}(N)\\rangle$,$\\langle \\Delta y^{2}(N)\\rangle$,$\\langle \\Delta R^{2}(N)\\rangle$\u3092\u3001\u30b9\u30c6\u30c3\u30d7\u6570N\u306b\u5bfe\u3057\u3066\u305d\u308c\u305e\u308c\u8a08\u7b97\u3092\u884c\u3044\u3001\u5f97\u3089\u308c\u305f\u7d50\u679c\u3092\u30b0\u30e9\u30d5\u306b\u307e\u3068\u3081\u308b\u3002"
     ]
    },
    {
     "cell_type": "code",
     "collapsed": false,
     "input": [
      "def calc(nwalkers):\n",
      "    \"\"\" Caluculate the average and the variance of x(N) and y(N)\n",
      "    \"\"\"\n",
      "    x_ave = np.sum(x, axis=0, dtype=np.float32) / nwalkers * 1.\n",
      "    y_ave = np.sum(y, axis=0, dtype=np.float32) / nwalkers * 1.\n",
      "    x_2_ave = np.sum(x ** 2, axis=0, dtype=np.float32) / nwalkers * 1.\n",
      "    y_2_ave = np.sum(y ** 2, axis=0, dtype=np.float32) / nwalkers * 1.\n",
      "    variance_x = x_2_ave - x_ave ** 2\n",
      "    variance_y = y_2_ave - y_ave ** 2\n",
      "    R_2 = x_2_ave + y_2_ave - x_ave ** 2 - y_ave ** 2\n",
      "\n",
      "    return [x_ave, y_ave, variance_x, variance_y, R_2]\n",
      "\n",
      "def plot_graph(x_data, y_data, x_labels, y_labels):\n",
      "    \"\"\" Plot the graph about y_data for each x_data.\n",
      "    \"\"\"\n",
      "    d = len(y_data)\n",
      "    if not len(x_data) == len(y_data) == len(x_labels) == len(y_labels):\n",
      "        raise ValueError(\"Arguments must have the same dimension.\")\n",
      "    if d == 0:\n",
      "        raise ValueError(\"At least one data for plot.\")\n",
      "    if d > 9:\n",
      "        raise ValueError(\"\"\"So much data for plot in one figure.\n",
      "                            Please divide two or more data sets.\"\"\")\n",
      "\n",
      "    fig = plt.figure(figsize=(9, 8))\n",
      "    subplotposition = ['11', '21', '22', '22', '32', '32', '33', '33', '33']\n",
      "    axes = []\n",
      "    for n in range(d):\n",
      "        lmn = int(subplotposition[d - 1] + str(n + 1))\n",
      "        axes.append(fig.add_subplot(lmn))\n",
      "\n",
      "    for i, ax in enumerate(axes):\n",
      "        ymin, ymax = min(y_data[i]), max(y_data[i])\n",
      "        ymargin = (ymax - ymin) * 0.1\n",
      "        ax.set_ylim(ymin - ymargin, ymax + ymargin)\n",
      "        ax.plot(x_data[i], y_data[i])\n",
      "        ax.set_xlabel(x_labels[i], fontsize=16)\n",
      "        ax.set_ylabel(y_labels[i], fontsize=16)\n",
      "\n",
      "    fig.subplots_adjust(wspace=0.2, hspace=0.5)\n",
      "    fig.tight_layout()\n",
      "    plt.show()"
     ],
     "language": "python",
     "metadata": {
      "internals": {
       "frag_helper": "fragment_end",
       "frag_number": 15,
       "slide_helper": "subslide_end"
      },
      "slide_helper": "subslide_end",
      "slideshow": {
       "slide_type": "fragment"
      }
     },
     "outputs": [],
     "prompt_number": 5
    },
    {
     "cell_type": "code",
     "collapsed": false,
     "input": [
      "display(w)\n",
      "\n",
      "def graph(event):\n",
      "    N = xrange(1, w.kwargs['steps'] + 1)  # caluculate when N = *\n",
      "    nwalkers = w.kwargs['walkers']  # number of random walkers\n",
      "    random_walk_d2(nwalkers, N)\n",
      "    x_labels = [r'$N$'] * 5\n",
      "    y_labels = [r'$\\langle x(N)\\rangle$', r'$\\langle y(N)\\rangle$',\n",
      "                r'$\\langle \\Delta x^{2}(N)\\rangle$',\n",
      "                r'$\\langle \\Delta y^{2}(N)\\rangle$',\n",
      "                r'$\\langle \\Delta R^{2}(N)\\rangle$']\n",
      "    plot_graph([N] * 5, calc(nwalkers), x_labels, y_labels)\n",
      "\n",
      "button_b = widgets.Button(description=\"Show figure\")\n",
      "display(button_b)\n",
      "button_b.on_click(graph)"
     ],
     "language": "python",
     "metadata": {
      "internals": {
       "frag_helper": "fragment_end",
       "frag_number": 15,
       "slide_helper": "subslide_end",
       "slide_type": "subslide"
      },
      "slide_helper": "subslide_end",
      "slideshow": {
       "slide_type": "subslide"
      }
     },
     "outputs": [
      {
       "output_type": "stream",
       "stream": "stdout",
       "text": [
        "steps = 500, random walkers = 500\n"
       ]
      },
      {
       "metadata": {},
       "output_type": "display_data",
       "png": "[encoded data removed]",
       "text": [
        "<matplotlib.figure.Figure at 0x7f6d97758c90>"
       ]
      }
     ],
     "prompt_number": 6
    },
    {
     "cell_type": "markdown",
     "metadata": {
      "internals": {
       "frag_helper": "fragment_end",
       "frag_number": 15,
       "slide_helper": "subslide_end",
       "slide_type": "subslide"
      },
      "slide_helper": "slide_end",
      "slideshow": {
       "slide_type": "subslide"
      }
     },
     "source": [
      "\u30b0\u30e9\u30d5\u304b\u3089\u8aad\u307f\u53d6\u308c\u308b\u3088\u3046\u306b\u3001$\\langle x(N) \\rangle$\u3001$\\langle y(N)\\rangle$\u306f\u307b\u307c\u96f6\u3067\u3042\u308a\u3001$N$\u306e\u4f9d\u5b58\u6027\u306f\u306a\u3044\u3002\u3053\u308c\u306f1\u6b21\u5143\u306e\u5834\u5408\u3068\u540c\u3058\u3067\u3042\u308b\u3002\u307e\u305f\u3001$N$\u304c\u5c0f\u3055\u3044\u3068\u3053\u308d\u3067\u306f0\u306b\u975e\u5e38\u306b\u8fd1\u304f\u306a\u3063\u3066\u3044\u308b\u306e\u306b\u5bfe\u3057\u3066\u3001$N$\u304c\u5927\u304d\u304f\u306a\u308b\u3068\u3070\u3089\u3064\u304d\u304c\u751f\u307e\u308c\u308b\u306e\u306f\u3001\u554f\u984c12.1\u3067\u8003\u3048\u305f\u3088\u3046\u306b\u3001\u540c\u3058\u7cbe\u5ea6\u3067\u6c42\u3081\u308b\u305f\u3081\u306b\u306f$N$\u304c\u5927\u304d\u3044\u3068\u304d\u306b\u306f\u8a66\u884c\u56de\u6570\u3092\u5897\u3084\u3059\u5fc5\u8981\u304c\u3042\u3063\u305f\u3053\u3068\u3092\u601d\u3044\u51fa\u305b\u3070\u3088\u3044\u3002\u6b21\u306b\u3001$\\langle \\Delta x^{2}(N)\\rangle $, $\\langle \\Delta y^{2}(N)\\rangle$\u306b\u3064\u3044\u3066\u3067\u3042\u308b\u304c\u3001\u3053\u308c\u3089\u306f$N$\u306b\u6bd4\u4f8b\u3057\u3066\u304a\u308a\u3001\u305d\u306e\u6bd4\u4f8b\u4fc2\u6570\u306f\u304a\u3088\u305d$1/2$\u3067\u3042\u308b\u3053\u3068\u304c\u5206\u304b\u308b\u3002\u3053\u308c\u306f2\u6b21\u5143\u306e\u30e9\u30f3\u30c0\u30e0\u30a6\u30a9\u30fc\u30af\u306b\u304a\u3044\u3066\u3001$x$\u65b9\u5411\u306b\u9032\u3080\u78ba\u7387$r(=1/2)$\u3001\u53f3\u306b\u9032\u3080\u78ba\u7387$p(=1/2)$\u3001\u5de6\u306b\u9032\u3080\u78ba\u7387$q(=1/2)$\u3068\u3059\u308b\u3068\n",
      "\n",
      "\\begin{equation}\n",
      "    \\langle \\Delta x^{2}(N)\\rangle = 4pqrl^{2}N = 4 \\times \\frac{1}{2} \\times \\frac{1}{2} \\times \\frac{1}{2} \\times 1^{2}N = \\frac{1}{2}N\n",
      "\\end{equation}\n",
      "\n",
      "\u3068\u306a\u308b\u3053\u3068\u3068\u4e00\u81f4\u3057\u3066\u3044\u308b\u3002\u3053\u306e$r$\u306f\u3001$N$\u56de\u306e\u30b9\u30c6\u30c3\u30d7\u306e\u3046\u3061\u3001$N$\u304c\u975e\u5e38\u306b\u5927\u304d\u3044\u3068\u304d\u306b\u306f\u3001$rN$\u56de\u304c$x$\u8ef8\u65b9\u5411\u306e\u79fb\u52d5\u306b\u5145\u3066\u3089\u308c\u308b\u3088\u3046\u306b\u307f\u306a\u305b\u308b\u3053\u3068\u3068\u5bfe\u5fdc\u3057\u3066\u3044\u308b\u3002\u6700\u5f8c\u306b$\\langle \\Delta R^{2}(N)\\rangle$\u306f\u3001$\\langle \\Delta x^{2}(N)\\rangle$\u3068$\\langle \\Delta y^{2}(N)\\rangle$\u306e\u548c\u3067\u3042\u308b\u306e\u3067\u3001$N$\u306b\u6bd4\u4f8b\u3057\u3066\u3001\u305d\u306e\u50be\u304d\u306f$1$\u3067\u3042\u308b\u3002"
     ]
    },
    {
     "cell_type": "heading",
     "level": 2,
     "metadata": {
      "internals": {
       "frag_helper": "fragment_end",
       "frag_number": 15,
       "slide_type": "subslide"
      },
      "slideshow": {
       "slide_type": "slide"
      }
     },
     "source": [
      "\u307e\u3068\u3081"
     ]
    },
    {
     "cell_type": "markdown",
     "metadata": {
      "internals": {
       "frag_helper": "fragment_end",
       "frag_number": 19,
       "slide_helper": "subslide_end"
      },
      "slide_helper": "slide_end",
      "slideshow": {
       "slide_type": "fragment"
      }
     },
     "source": [
      "\u6b21\u5143\u306e\u5358\u7d14\u306a\u30e9\u30f3\u30c0\u30e0\u30a6\u30a9\u30fc\u30af\u306e\u30b7\u30df\u30e5\u30ec\u30fc\u30b7\u30e7\u30f3\u3068\u3001\u305d\u3053\u3067\u898b\u3089\u308c\u308bN\u3068\u5e73\u5747\u30fb\u5206\u6563\u30fb\u5e73\u57472\u4e57\u5909\u4f4d\u306b\u3064\u3044\u3066\u6210\u308a\u7acb\u3064\u95a2\u4fc2\u306b\u3064\u3044\u3066\u8abf\u3079\u308b\u3053\u3068\u304c\u3067\u304d\u305f\u3002"
     ]
    },
    {
     "cell_type": "heading",
     "level": 2,
     "metadata": {
      "internals": {
       "frag_helper": "fragment_end",
       "frag_number": 19,
       "slide_type": "subslide"
      },
      "slideshow": {
       "slide_type": "slide"
      }
     },
     "source": [
      "\u53c2\u8003\u6587\u732e"
     ]
    },
    {
     "cell_type": "markdown",
     "metadata": {
      "internals": {
       "frag_helper": "fragment_end",
       "frag_number": 19,
       "slide_helper": "subslide_end"
      },
      "slide_helper": "slide_end",
      "slideshow": {
       "slide_type": "-"
      }
     },
     "source": [
      "- \u30cf\u30fc\u30d9\u30a4\u30fb\u30b4\u30fc\u30eb\u30c9,\u30b8\u30e3\u30f3\u30fb\u30c8\u30dc\u30c1\u30cb\u30af,\u77f3\u5ddd\u6b63\u52dd\u30fb\u5bae\u5cf6\u4f50\u4ecb\u8a33\u300e\u8a08\u7b97\u7269\u7406\u5b66\u5165\u9580\u300f,\u30d4\u30a2\u30bd\u30f3\u30fb\u30a8\u30c7\u30e5\u30b1\u30fc\u30b7\u30e7\u30f3, 2000."
     ]
    }
   ],
   "metadata": {}
  }
 ]
}